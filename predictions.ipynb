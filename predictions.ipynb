{
 "cells": [
  {
   "cell_type": "code",
   "execution_count": 1,
   "metadata": {},
   "outputs": [
    {
     "name": "stdout",
     "output_type": "stream",
     "text": [
      "opened file for ticker:  BSX-labeled \n",
      "\n"
     ]
    }
   ],
   "source": [
    "\"\"\"\n",
    "Eric Born\n",
    "stock logistic regression\n",
    "Create a KNN model based upon the mean and standard\n",
    "deviation measures of the weekly stock returns\n",
    "\"\"\"\n",
    "\n",
    "import os\n",
    "import matplotlib.pyplot as plt\n",
    "import numpy as np\n",
    "import pandas as pd\n",
    "import seaborn as sns\n",
    "from sklearn.neighbors import KNeighborsClassifier\n",
    "from sklearn.preprocessing import StandardScaler\n",
    "from sklearn.metrics import confusion_matrix, recall_score\n",
    "from sklearn.model_selection import train_test_split\n",
    "\n",
    "# setup input directory and filename\n",
    "ticker = 'BSX-labeled'\n",
    "input_dir = r'C:\\Users\\TomBrody\\Desktop\\Projects\\stock-prediction\\data'\n",
    "ticker_file = os.path.join(input_dir, ticker + '.csv')\n",
    "\n",
    "# read csv file into dataframe\n",
    "try:\n",
    "    df = pd.read_csv(ticker_file)\n",
    "    print('opened file for ticker: ', ticker,'\\n')\n",
    "\n",
    "except Exception as e:\n",
    "    print(e)\n",
    "    print('failed to read stock data for ticker: ', ticker)"
   ]
  },
  {
   "cell_type": "code",
   "execution_count": 2,
   "metadata": {},
   "outputs": [],
   "source": [
    "# Create class column where red = 0 and green = 1\n",
    "df['class'] = df['label'].apply(lambda x: 1 if x =='green' else 0)\n",
    "\n",
    "# Create separate dataframes for 2017 and 2018 data\n",
    "# 2017 will be used as training, 2018 as testing for the model\n",
    "df_2017 = df.loc[df['td_year']==2017]\n",
    "df_2018 = df.loc[df['td_year']==2018]\n",
    "\n",
    "# Reset indexes\n",
    "df_2017 = df_2017.reset_index(level=0, drop=True)\n",
    "df_2018 = df_2018.reset_index(level=0, drop=True)\n",
    "\n",
    "# Create reduced dataframe only containing week number, mu, sig and label\n",
    "df_2017_reduced = pd.DataFrame( {'week nbr' : range(1, 53),\n",
    "                'mu'    : df_2017.groupby('td_week_number')['return'].mean(),\n",
    "                'sig'   : df_2017.groupby('td_week_number')['return'].std(),\n",
    "                'label' : df_2017.groupby('td_week_number')['class'].first()})\n",
    "\n",
    "# Create reduced dataframe only containing week number, mu, sig and label\n",
    "df_2018_reduced = pd.DataFrame( {'week nbr' : range(0, 53),\n",
    "                'mu'    : df_2018.groupby('td_week_number')['return'].mean(),\n",
    "                'sig'   : df_2018.groupby('td_week_number')['return'].std(),\n",
    "                'label' : df_2018.groupby('td_week_number')['class'].first()})\n",
    "\n",
    "# Replacing nan in week 52 sigma column with a zero due to \n",
    "# there being only 1 trading day that week.\n",
    "df_2018_reduced = df_2018_reduced.fillna(0)\n",
    "\n",
    "# remove index name labels from dataframes\n",
    "del df_2017_reduced.index.name\n",
    "del df_2018_reduced.index.name"
   ]
  },
  {
   "cell_type": "code",
   "execution_count": 3,
   "metadata": {},
   "outputs": [],
   "source": [
    "# Define features labels\n",
    "features = ['mu', 'sig']\n",
    "\n",
    "# create x dataset from 2017 features values\n",
    "X = df_2017_reduced[features].values\n",
    "\n",
    "# create y datasets from 2017 label values\n",
    "Y = df_2017_reduced['label'].values\n",
    "\n",
    "# Setup scalers X dataset\n",
    "scaler = StandardScaler()\n",
    "scaler.fit(X)\n",
    "X = scaler.transform(X)\n",
    "\n",
    "# divide X and Y into test/train 50/50\n",
    "X_train, X_test, Y_train, Y_test = train_test_split(X, Y, test_size = 0.5, \n",
    "                                                    random_state = 3)\n",
    "# Create empty lists to store the models error rate and \n",
    "# accuracy across various K's\n",
    "error_rate = []\n",
    "accuracy = []\n",
    "k_value = []"
   ]
  },
  {
   "cell_type": "code",
   "execution_count": 4,
   "metadata": {},
   "outputs": [],
   "source": [
    "# For loop to test the model using 2017 data\n",
    "# with k neighbors set to 3, 5, 7, 9 and 11\n",
    "try:\n",
    "    for k in range (3, 13, 2):\n",
    "        # Create the classifier with neighbors set to k from the loop\n",
    "        knn_classifier = KNeighborsClassifier(n_neighbors = k)\n",
    "       \n",
    "        # Train the classifier\n",
    "        knn_classifier.fit(X_train, Y_train)\n",
    "        \n",
    "        # Perform predictions\n",
    "        pred_k = knn_classifier.predict(X_test)\n",
    "        \n",
    "        # Store error rate and accuracy for particular K value\n",
    "        k_value.append(k)\n",
    "        error_rate.append(round(np.mean(pred_k != Y_test) * 100, 2))\n",
    "        accuracy.append(round(sum(pred_k == Y_test) / len(pred_k) * 100, 2))\n",
    "except Exception as e:\n",
    "    print(e)\n",
    "    print('failed to build the KNN classifier.')"
   ]
  },
  {
   "cell_type": "code",
   "execution_count": 5,
   "metadata": {},
   "outputs": [
    {
     "name": "stdout",
     "output_type": "stream",
     "text": [
      "The accuracy on 2017 data when K = 3 is: 73.08\n",
      "The accuracy on 2017 data when K = 5 is: 73.08\n",
      "The accuracy on 2017 data when K = 7 is: 73.08\n",
      "The accuracy on 2017 data when K = 9 is: 69.23\n",
      "The accuracy on 2017 data when K = 11 is: 61.54\n"
     ]
    }
   ],
   "source": [
    "for i in range (0,5):\n",
    "    print('The accuracy on 2017 data when K =', k_value[i], 'is:', accuracy[i])"
   ]
  },
  {
   "cell_type": "code",
   "execution_count": 6,
   "metadata": {},
   "outputs": [
    {
     "data": {
      "text/plain": [
       "Text(0, 0.5, 'Accuracy')"
      ]
     },
     "execution_count": 6,
     "metadata": {},
     "output_type": "execute_result"
    },
    {
     "data": {
      "image/png": "[encoded data removed]",
      "text/plain": [
       "<Figure size 720x288 with 1 Axes>"
      ]
     },
     "metadata": {
      "needs_background": "light"
     },
     "output_type": "display_data"
    }
   ],
   "source": [
    "# create a plot to display the accuracy of the model across K\n",
    "fig = plt.figure(figsize=(10, 4))\n",
    "ax = plt.gca()\n",
    "plt.plot(range(3, 13, 2), accuracy, color ='blue',\n",
    "         marker = 'o', markerfacecolor = 'black', markersize = 10)\n",
    "plt.title('Accuracy vs. k for stock labels')\n",
    "plt.xlabel('Number of neighbors: k')\n",
    "plt.ylabel('Accuracy')"
   ]
  },
  {
   "cell_type": "code",
   "execution_count": 7,
   "metadata": {},
   "outputs": [
    {
     "name": "stdout",
     "output_type": "stream",
     "text": [
      "\n",
      "The accuracy on 2018 data when K = 5 is: 81.13 %\n"
     ]
    }
   ],
   "source": [
    "# setup and test on 2018 data with k = 5\n",
    "# Create x test set for 2018\n",
    "x_test = df_2018_reduced[features].values\n",
    "y_2018_test = df_2018_reduced['label'].values\n",
    "\n",
    "# scaler for 2018 test data\n",
    "scaler.fit(x_test)\n",
    "x_2018_test = scaler.transform(x_test)\n",
    "\n",
    "# Create the classifier with neighbors set to 5\n",
    "knn_2018 = KNeighborsClassifier(n_neighbors = 5)\n",
    "\n",
    "# Train the classifier using all of 2017 data\n",
    "knn_2018.fit(X, Y)\n",
    "        \n",
    "# Perform predictions on 2018 data\n",
    "pred_2018 = knn_2018.predict(x_2018_test)\n",
    "\n",
    "# Capture error and accuracy rates for 2018 predictions\n",
    "error_2018 = round(np.mean(pred_2018 != y_2018_test) * 100, 2)\n",
    "accuracy_2018 = round(sum(pred_2018 == y_2018_test) / len(pred_2018) * 100, 2)\n",
    "\n",
    "# accuracy is 83.13%\n",
    "print('\\nThe accuracy on 2018 data when K = 5 is:', accuracy_2018, '%')"
   ]
  },
  {
   "cell_type": "code",
   "execution_count": 8,
   "metadata": {},
   "outputs": [
    {
     "name": "stdout",
     "output_type": "stream",
     "text": [
      "\n",
      "Confusion matrix for year 2 predictions:\n",
      "[[20  9]\n",
      " [ 1 23]] \n",
      "\n"
     ]
    }
   ],
   "source": [
    "# Output the confusion matrix\n",
    "cm = confusion_matrix(y_2018_test, pred_2018)\n",
    "print('\\nConfusion matrix for year 2 predictions:')\n",
    "print(cm, '\\n')"
   ]
  },
  {
   "cell_type": "code",
   "execution_count": 9,
   "metadata": {},
   "outputs": [
    {
     "name": "stdout",
     "output_type": "stream",
     "text": [
      "The specificity is: 20/29 = 0.69 = 69%\n",
      "The recall is: 23/24 = 95.83 %\n"
     ]
    },
    {
     "data": {
      "image/png": "[encoded data removed]",
      "text/plain": [
       "<Figure size 432x288 with 2 Axes>"
      ]
     },
     "metadata": {
      "needs_background": "light"
     },
     "output_type": "display_data"
    }
   ],
   "source": [
    "# Create confusion matrix heatmap\n",
    "# setup class names and tick marks\n",
    "class_names=[0,1]\n",
    "fig, ax = plt.subplots()\n",
    "tick_marks = np.arange(len(class_names))\n",
    "plt.xticks(tick_marks, class_names)\n",
    "plt.yticks(tick_marks, class_names)\n",
    "\n",
    "# Create heatmap and labels\n",
    "sns.heatmap(pd.DataFrame(cm), annot=True, cmap=\"BrBG\", fmt='g')\n",
    "ax.xaxis.set_label_position(\"top\")\n",
    "plt.tight_layout()\n",
    "plt.title('Confusion matrix', y=1.1)\n",
    "plt.ylabel('Actual label')\n",
    "plt.xlabel('Predicted label')\n",
    "\n",
    "# what is true positive rate (sensitivity or recall) and true\n",
    "# negative rate (specificity) for year 2?\n",
    "print('The specificity is: 20/29 = 0.69 = 69%')\t\n",
    "print('The recall is: 23/24 =', \n",
    "      round(recall_score(y_2018_test, pred_2018) * 100, 2),'%')"
   ]
  },
  {
   "cell_type": "code",
   "execution_count": 10,
   "metadata": {},
   "outputs": [],
   "source": [
    "# Implemented trading strategy based upon label predicitons vs\n",
    "# buy and hold strategy\n",
    "\n",
    "# Initialize wallet and shares to track current money and number of shares.\n",
    "wallet = 100.00\n",
    "shares = 0\n",
    "worth = 0\n",
    "\n",
    "# stores adj_close values for the last day of each trading week\n",
    "adj_close = df_2018.groupby('td_week_number')['adj_close'].last()\n",
    "\n",
    "# stores open price for the first day of each trading week\n",
    "open_price = df_2018.groupby('td_week_number')['open'].first()"
   ]
  },
  {
   "cell_type": "code",
   "execution_count": 11,
   "metadata": {},
   "outputs": [],
   "source": [
    "# for loop that evaluates the dataset deciding when to buy/sell based\n",
    "# upon the prediction labels. 0 is a bad week, 1 is a good week\n",
    "try:\n",
    "    for i in range(0, len(pred_2018)):\n",
    "        # Sell should occur on the last day of a green week at \n",
    "        # the adjusted_close price. Since i is tracking the current\n",
    "        # trading week we need to minus 1 to get the adjusted close price\n",
    "        # from the previous trading week\n",
    "        if pred_2018[i] == 0 and shares > 0:\n",
    "            wallet = round(shares * adj_close[i - 1], 2)\n",
    "            shares = 0\n",
    "            \n",
    "        # Buy should occur on the first day of a green week at the open price\n",
    "        if pred_2018[i] == 1 and shares == 0: \n",
    "            shares = wallet / open_price[i]\n",
    "            wallet = 0            \n",
    "            \n",
    "except Exception as e:\n",
    "    print(e)\n",
    "    print('Failed to evaluate df_2018 labels')"
   ]
  },
  {
   "cell_type": "code",
   "execution_count": 12,
   "metadata": {},
   "outputs": [
    {
     "name": "stdout",
     "output_type": "stream",
     "text": [
      "\n",
      "2018 Label Strategy:\n",
      "Total Cash: $ 0 \n",
      "Total shares: 6.769632 \n",
      "Worth: $ 239.24\n",
      "This method would close the year at $ 239.24 a profit of $ 139.24\n"
     ]
    }
   ],
   "source": [
    "# set worth by multiplying stock price on final day by total shares\n",
    "worth = round(shares * adj_close[52], 2)\n",
    "\n",
    "if worth == 0:\n",
    "    worth = wallet\n",
    "    profit = round(wallet - 100.00, 2)\n",
    "else:\n",
    "    profit = round(worth - 100.00, 2)\n",
    "\n",
    "# Total Cash: $0\n",
    "# Total shares: 6.703067 \n",
    "# Worth: $236.89\n",
    "# This method would close the year at $ 141.7 a profit of $ 41.7\n",
    "print('\\n2018 Label Strategy:')\n",
    "print('Total Cash: $', wallet, '\\nTotal shares:', round(shares, 6),\n",
    "      '\\nWorth: $', worth)    \n",
    "print('This method would close the year at $', worth, 'a profit of $', profit)"
   ]
  },
  {
   "cell_type": "code",
   "execution_count": 13,
   "metadata": {},
   "outputs": [
    {
     "name": "stdout",
     "output_type": "stream",
     "text": [
      "\n",
      "2018 buy and hold: \n",
      "Currently own 4.009623 shares \n",
      "Worth $ 141.70\n",
      "Selling on the final day would result in $ 141.70 a profit of $ 41.70\n"
     ]
    }
   ],
   "source": [
    "# Buy and hold\n",
    "# Initialize wallet and shares to track current money and number of shares.\n",
    "wallet = 100.00\n",
    "shares = 0\n",
    "profit = 0\n",
    "worth = 0\n",
    "\n",
    "# Calculate shares, worth and profit\n",
    "shares = round(wallet / float(open_price[0]), 6)\n",
    "worth = round(shares * adj_close[52], 2)\n",
    "profit = round(worth - 100.00, 2)\n",
    "\n",
    "#Currently own 4.009623 shares \n",
    "#Worth $ 141.70\n",
    "#Selling on the final day would result in $ 141.7 a profit of $ 41.7\n",
    "print('\\n2018 buy and hold:','\\nCurrently own', shares, 'shares',\n",
    "      '\\nWorth','$',\"%.2f\"%round(worth, 2))\n",
    "print('Selling on the final day would result in $',\"%.2f\"%worth, \n",
    "      'a profit of $', \"%.2f\"%profit)"
   ]
  },
  {
   "cell_type": "code",
   "execution_count": null,
   "metadata": {},
   "outputs": [],
   "source": []
  }
 ],
 "metadata": {
  "kernelspec": {
   "display_name": "Python 3",
   "language": "python",
   "name": "python3"
  },
  "language_info": {
   "codemirror_mode": {
    "name": "ipython",
    "version": 3
   },
   "file_extension": ".py",
   "mimetype": "text/x-python",
   "name": "python",
   "nbconvert_exporter": "python",
   "pygments_lexer": "ipython3",
   "version": "3.7.3"
  }
 },
 "nbformat": 4,
 "nbformat_minor": 2
}
